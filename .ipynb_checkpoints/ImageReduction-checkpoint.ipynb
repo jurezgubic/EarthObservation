{
 "cells": [
  {
   "cell_type": "code",
   "execution_count": 3,
   "id": "35de09d6",
   "metadata": {},
   "outputs": [
    {
     "data": {
      "text/html": [
       "<p>To authorize access needed by Earth Engine, open the following\n",
       "        URL in a web browser and follow the instructions:</p>\n",
       "        <p><a href=https://code.earthengine.google.com/client-auth?scopes=https%3A//www.googleapis.com/auth/earthengine%20https%3A//www.googleapis.com/auth/devstorage.full_control&request_id=YRE6BEgBiS2qxopN-k6KLbFAvBIBoDxYh-CH3OdFvvE&tc=7dWCaXVPQ_DXAUZv3VHuCy2aqKLG6UT8XSzQr8WlDPQ&cc=1P2lcb7u_FoJRjvu6c6ujpEWqx9Oft-9FJtG63IVQeE>https://code.earthengine.google.com/client-auth?scopes=https%3A//www.googleapis.com/auth/earthengine%20https%3A//www.googleapis.com/auth/devstorage.full_control&request_id=YRE6BEgBiS2qxopN-k6KLbFAvBIBoDxYh-CH3OdFvvE&tc=7dWCaXVPQ_DXAUZv3VHuCy2aqKLG6UT8XSzQr8WlDPQ&cc=1P2lcb7u_FoJRjvu6c6ujpEWqx9Oft-9FJtG63IVQeE</a></p>\n",
       "        <p>The authorization workflow will generate a code, which you should paste in the box below.</p>\n",
       "        "
      ],
      "text/plain": [
       "<IPython.core.display.HTML object>"
      ]
     },
     "metadata": {},
     "output_type": "display_data"
    },
    {
     "name": "stdout",
     "output_type": "stream",
     "text": [
      "Enter verification code: 4/1AbUR2VPgUtP-XHK5ve2bi9dM_lvr3koyMC2NrRLJo9GSKHkEskwRL5CA_S8\n",
      "\n",
      "Successfully saved authorization token.\n"
     ]
    }
   ],
   "source": [
    "import ee\n",
    "ee.Authenticate()\n",
    "ee.Initialize()"
   ]
  },
  {
   "cell_type": "code",
   "execution_count": 4,
   "id": "397dc5ec",
   "metadata": {},
   "outputs": [],
   "source": [
    "#from pystac_client import Client \n",
    "#import planetary_computer\n",
    "#import leafmap\n",
    "import geemap"
   ]
  },
  {
   "cell_type": "code",
   "execution_count": null,
   "id": "319e641d",
   "metadata": {},
   "outputs": [],
   "source": []
  }
 ],
 "metadata": {
  "kernelspec": {
   "display_name": "Python 3 (ipykernel)",
   "language": "python",
   "name": "python3"
  },
  "language_info": {
   "codemirror_mode": {
    "name": "ipython",
    "version": 3
   },
   "file_extension": ".py",
   "mimetype": "text/x-python",
   "name": "python",
   "nbconvert_exporter": "python",
   "pygments_lexer": "ipython3",
   "version": "3.9.12"
  }
 },
 "nbformat": 4,
 "nbformat_minor": 5
}
