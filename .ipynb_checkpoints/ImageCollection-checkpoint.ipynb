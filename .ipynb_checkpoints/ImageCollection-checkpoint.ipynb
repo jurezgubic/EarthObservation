{
 "cells": [
  {
   "cell_type": "code",
   "execution_count": null,
   "id": "35de09d6",
   "metadata": {},
   "outputs": [],
   "source": [
    "import ee\n",
    "ee.Authenticate()\n",
    "ee.Initialize()"
   ]
  },
  {
   "cell_type": "code",
   "execution_count": null,
   "id": "3d2a6b8b",
   "metadata": {},
   "outputs": [],
   "source": [
    "import geemap"
   ]
  },
  {
   "cell_type": "code",
   "execution_count": null,
   "id": "27e9d138",
   "metadata": {
    "scrolled": true
   },
   "outputs": [],
   "source": [
    "roi = ee.Geometry.Point([-0.627983, 52.074361]).buffer(1000)\n",
    "\n",
    "# Load and filter for location, date and cloud cover (<10%)\n",
    "L8_SR = (ee.ImageCollection('LANDSAT/LC08/C02/T1_L2')\n",
    "    .filterDate('2022-05-01', '2023-05-01')\n",
    "    .filterBounds(roi)\n",
    "    .filter(ee.Filter.lt('CLOUD_COVER', 10)))\n",
    "\n",
    "# get collection metadata\n",
    "L8_SR"
   ]
  },
  {
   "cell_type": "markdown",
   "id": "4b45c655",
   "metadata": {},
   "source": [
    "Choose least cloudy image"
   ]
  },
  {
   "cell_type": "code",
   "execution_count": null,
   "id": "d2529b59",
   "metadata": {},
   "outputs": [],
   "source": [
    "least_cloudy = L8_SR.sort('CLOUD_COVER').first()\n",
    "least_cloudy_scaled = least_cloudy.multiply(0.0000275).add(-0.2)"
   ]
  },
  {
   "cell_type": "code",
   "execution_count": null,
   "id": "add9b7a1",
   "metadata": {},
   "outputs": [],
   "source": [
    "least_cloudy.get('CLOUD_COVER')\n",
    "#least_cloudy.get('DATE_ACQUIRED')"
   ]
  },
  {
   "cell_type": "markdown",
   "id": "926f1d73",
   "metadata": {},
   "source": [
    "Create a new base map and add visible RGB bands of the filtered least cloudy images to the map Add the SR false-color layer NIR, Red, Green to the map. "
   ]
  },
  {
   "cell_type": "code",
   "execution_count": null,
   "id": "25b3eb23",
   "metadata": {},
   "outputs": [],
   "source": [
    "# get bands, min & max from GEE:catalog/COPERNICUS_S2_SR_HARMONIZED\n",
    "L8_SR_rgbVis = {'bands': [\"SR_B4\", \"SR_B3\", \"SR_B2\"], 'min':0, 'max': 0.3}\n",
    "L8_SR_rgNIR = {'bands': [\"SR_B4\", \"SR_B3\", \"SR_B5\"], 'min':0, 'max': 0.3 }\n",
    "\n",
    "Map = geemap.Map()\n",
    "Map.center_object(roi)\n",
    "Map.addLayer(least_cloudy_scaled,vis_params=L8_SR_rgbVis) # red, green, blue\n",
    "#Map.addLayer(least_cloudy_scaled,vis_params=L8_SR_rgNIR) # red, green, near-infrared\n",
    "Map"
   ]
  },
  {
   "cell_type": "markdown",
   "id": "89d2b697",
   "metadata": {},
   "source": [
    "Calculate NDVI and add the layer to the map.\n",
    "\n",
    "NDVI (Normalized Difference Vegetation) Index is widely used to assess vegetation health. NDVI formula is: NDVI = (NIR-Red)/(NIR+Red) Add the NDVI layer to the map"
   ]
  },
  {
   "cell_type": "code",
   "execution_count": null,
   "id": "c1fea6ce",
   "metadata": {},
   "outputs": [],
   "source": [
    "# SR_B4 is red, SR_B5 is NIR \n",
    "nir = least_cloudy.select('SR_B5')\n",
    "red = least_cloudy.select('SR_B4')\n",
    "ndvi_image = nir.subtract(red).divide(nir.add(red)).rename('NDVI')"
   ]
  },
  {
   "cell_type": "code",
   "execution_count": null,
   "id": "d79cd515",
   "metadata": {},
   "outputs": [],
   "source": [
    "Map.addLayer(ndvi_image, {'palette': ['blue', 'white', 'green']})\n",
    "Map"
   ]
  }
 ],
 "metadata": {
  "kernelspec": {
   "display_name": "Python 3 (ipykernel)",
   "language": "python",
   "name": "python3"
  },
  "language_info": {
   "codemirror_mode": {
    "name": "ipython",
    "version": 3
   },
   "file_extension": ".py",
   "mimetype": "text/x-python",
   "name": "python",
   "nbconvert_exporter": "python",
   "pygments_lexer": "ipython3",
   "version": "3.9.12"
  }
 },
 "nbformat": 4,
 "nbformat_minor": 5
}
