{
 "cells": [
  {
   "cell_type": "code",
   "execution_count": 1,
   "id": "35de09d6",
   "metadata": {},
   "outputs": [
    {
     "data": {
      "text/html": [
       "<p>To authorize access needed by Earth Engine, open the following\n",
       "        URL in a web browser and follow the instructions:</p>\n",
       "        <p><a href=https://code.earthengine.google.com/client-auth?scopes=https%3A//www.googleapis.com/auth/earthengine%20https%3A//www.googleapis.com/auth/devstorage.full_control&request_id=_zwpHLfXgnW5G8we32X3kFD9QD8ZpNSGX3fNyy6fHAk&tc=q4OKhRp_dKx1m-zz5xyL37sZ17UKvkOMQon_k3HQSZU&cc=CvM0qhDrT0WjIBo2Z8xPuCyx5W3IYNvbEEGxdbE0ZDg>https://code.earthengine.google.com/client-auth?scopes=https%3A//www.googleapis.com/auth/earthengine%20https%3A//www.googleapis.com/auth/devstorage.full_control&request_id=_zwpHLfXgnW5G8we32X3kFD9QD8ZpNSGX3fNyy6fHAk&tc=q4OKhRp_dKx1m-zz5xyL37sZ17UKvkOMQon_k3HQSZU&cc=CvM0qhDrT0WjIBo2Z8xPuCyx5W3IYNvbEEGxdbE0ZDg</a></p>\n",
       "        <p>The authorization workflow will generate a code, which you should paste in the box below.</p>\n",
       "        "
      ],
      "text/plain": [
       "<IPython.core.display.HTML object>"
      ]
     },
     "metadata": {},
     "output_type": "display_data"
    },
    {
     "name": "stdout",
     "output_type": "stream",
     "text": [
      "Enter verification code: 4/1AbUR2VPaAwdnCPhE2R6TNADP--YUlQ2E_-nT4pqSeVk4j0qmQq41QFCNZeI\n",
      "\n",
      "Successfully saved authorization token.\n"
     ]
    }
   ],
   "source": [
    "import ee\n",
    "ee.Authenticate()\n",
    "ee.Initialize()"
   ]
  },
  {
   "cell_type": "code",
   "execution_count": 2,
   "id": "397dc5ec",
   "metadata": {},
   "outputs": [],
   "source": [
    "import geemap"
   ]
  },
  {
   "cell_type": "code",
   "execution_count": 3,
   "id": "47e14f2a",
   "metadata": {},
   "outputs": [],
   "source": [
    "roi = ee.Geometry.Point([-0.627983, 52.074361]).buffer(1000*5)\n",
    "# Filtering  \n",
    "s2_collection = (ee.ImageCollection('COPERNICUS/S2_HARMONIZED')\n",
    "    .filterDate('2023-01-01', '2023-05-10')\n",
    "    .filterBounds(roi)\n",
    "    .filter(ee.Filter.lt('CLOUDY_PIXEL_PERCENTAGE', 20)))\n",
    "# Spatially mosaic the images in the collection and display.\n",
    "mosaic = s2_collection.mosaic()"
   ]
  },
  {
   "cell_type": "code",
   "execution_count": 4,
   "id": "8ffbb841",
   "metadata": {},
   "outputs": [],
   "source": [
    "# define the RGB bands\n",
    "S2_rgbVis = {'bands': [\"B4\", \"B3\", \"B2\"], 'min':0, 'max': 3000}"
   ]
  },
  {
   "cell_type": "code",
   "execution_count": 5,
   "id": "86be9938",
   "metadata": {},
   "outputs": [
    {
     "data": {
      "application/vnd.jupyter.widget-view+json": {
       "model_id": "1dfc61619a3840e4bf8f06e3fcc285f2",
       "version_major": 2,
       "version_minor": 0
      },
      "text/plain": [
       "Map(center=[20, 0], controls=(WidgetControl(options=['position', 'transparent_bg'], widget=HBox(children=(Togg…"
      ]
     },
     "metadata": {},
     "output_type": "display_data"
    }
   ],
   "source": [
    "# add to map\n",
    "Map2 = geemap.Map()\n",
    "Map2.center_object(roi)\n",
    "Map2.add_basemap(\"HYBRID\")\n",
    "Map2.addLayer(mosaic,vis_params=S2_rgbVis)\n",
    "Map2"
   ]
  },
  {
   "cell_type": "code",
   "execution_count": 6,
   "id": "ecb05e7b",
   "metadata": {},
   "outputs": [],
   "source": [
    "bands10 = ['B2','B3','B4','B8']\n",
    "mosaic = mosaic.select(bands10)"
   ]
  },
  {
   "cell_type": "code",
   "execution_count": null,
   "id": "4bb8303b",
   "metadata": {},
   "outputs": [],
   "source": [
    "geemap.ee_export_image(mosaic.clip(roi), \"/content/drive/MyDrive/cr_mosaic.tif\",scale=30)"
   ]
  }
 ],
 "metadata": {
  "kernelspec": {
   "display_name": "Python 3 (ipykernel)",
   "language": "python",
   "name": "python3"
  },
  "language_info": {
   "codemirror_mode": {
    "name": "ipython",
    "version": 3
   },
   "file_extension": ".py",
   "mimetype": "text/x-python",
   "name": "python",
   "nbconvert_exporter": "python",
   "pygments_lexer": "ipython3",
   "version": "3.9.12"
  }
 },
 "nbformat": 4,
 "nbformat_minor": 5
}
